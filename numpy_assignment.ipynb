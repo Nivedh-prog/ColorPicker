{
  "nbformat": 4,
  "nbformat_minor": 0,
  "metadata": {
    "colab": {
      "private_outputs": true,
      "provenance": [],
      "authorship_tag": "ABX9TyMVtIBtuNrwhGpw5CWk9zCY",
      "include_colab_link": true
    },
    "kernelspec": {
      "name": "python3",
      "display_name": "Python 3"
    },
    "language_info": {
      "name": "python"
    }
  },
  "cells": [
    {
      "cell_type": "markdown",
      "metadata": {
        "id": "view-in-github",
        "colab_type": "text"
      },
      "source": [
        "<a href=\"https://colab.research.google.com/github/Nivedh-prog/ColorPicker/blob/master/numpy_assignment.ipynb\" target=\"_parent\"><img src=\"https://colab.research.google.com/assets/colab-badge.svg\" alt=\"Open In Colab\"/></a>"
      ]
    },
    {
      "cell_type": "code",
      "execution_count": null,
      "metadata": {
        "id": "RHLeVhxMYH2Q"
      },
      "outputs": [],
      "source": [
        "import numpy as np\n",
        "\n",
        "array = np.arange(10)\n",
        "array\n"
      ]
    },
    {
      "cell_type": "code",
      "source": [
        "print(np.zeros(shape=(3,3)))"
      ],
      "metadata": {
        "id": "MCbfulO9YZ9j"
      },
      "execution_count": null,
      "outputs": []
    },
    {
      "cell_type": "code",
      "source": [
        "print(np.identity(4))"
      ],
      "metadata": {
        "id": "kwrRyOReYeQ5"
      },
      "execution_count": null,
      "outputs": []
    },
    {
      "cell_type": "code",
      "source": [
        "import numpy as np\n",
        "import importlib\n",
        "np = importlib.reload(np)\n"
      ],
      "metadata": {
        "id": "mAjGUR0EbdA7"
      },
      "execution_count": null,
      "outputs": []
    },
    {
      "cell_type": "code",
      "source": [
        "arrayx = np.linspace(0,1,num=11)\n",
        "print(arrayx)"
      ],
      "metadata": {
        "id": "FL2-hZjkYpVN"
      },
      "execution_count": null,
      "outputs": []
    },
    {
      "cell_type": "code",
      "source": [
        "array = np.ones(shape=(5,5))*7\n",
        "array"
      ],
      "metadata": {
        "id": "tNgBABzAZRNF"
      },
      "execution_count": null,
      "outputs": []
    },
    {
      "cell_type": "code",
      "source": [
        "array = np.ones(shape=(6,6))\n",
        "for i in range(0,6):\n",
        "  for j in range(0,6):\n",
        "    array[i][j] = i\n",
        "array"
      ],
      "metadata": {
        "id": "K-UtFNIeZuZE"
      },
      "execution_count": null,
      "outputs": []
    },
    {
      "cell_type": "code",
      "source": [
        "array2 = np.linspace(1,16,num=16)\n",
        "print(array2.reshape(4,4))\n"
      ],
      "metadata": {
        "id": "B3oWD1tjag7H"
      },
      "execution_count": null,
      "outputs": []
    },
    {
      "cell_type": "code",
      "source": [
        "array = np.ones(shape=(8,8),dtype=int)\n",
        "for i in range(0,8):\n",
        "  for j in range(0,8,2) :\n",
        "    array[i][j] = 0\n",
        "array"
      ],
      "metadata": {
        "id": "BdPh8nl5a2k9"
      },
      "execution_count": null,
      "outputs": []
    },
    {
      "cell_type": "code",
      "source": [
        "array = np.zeros(shape=(10,10),dtype=int)\n",
        "for i in range(0,10):\n",
        "  for j in range(0,10):\n",
        "    if i==0 or i==9 or j==0 or j==9:\n",
        "      array[i][j]=1\n",
        "array"
      ],
      "metadata": {
        "id": "wdjkFSJ2bxD4"
      },
      "execution_count": null,
      "outputs": []
    },
    {
      "cell_type": "code",
      "source": [
        "array = np.arange(10)\n",
        "print(array)\n",
        "array[-3:]"
      ],
      "metadata": {
        "id": "mahV44dudCZ6"
      },
      "execution_count": null,
      "outputs": []
    },
    {
      "cell_type": "code",
      "source": [
        "arr = np.arange(10)\n",
        "arr[arr % 2 == 0] = -1\n",
        "arr"
      ],
      "metadata": {
        "id": "GBF_Gx9udXn6"
      },
      "execution_count": null,
      "outputs": []
    },
    {
      "cell_type": "code",
      "source": [
        "a = [1,2,3]\n",
        "b = [4,5,6]\n",
        "hst = np.hstack((a,b))\n",
        "vst = np.vstack((a,b))\n",
        "print(vst)\n",
        "hst"
      ],
      "metadata": {
        "id": "Pr5-ac2Cdq3k"
      },
      "execution_count": null,
      "outputs": []
    },
    {
      "cell_type": "code",
      "source": [
        "import numpy as np\n",
        "arr = np.array([[1,2,3],[3,4,5]])\n",
        "col_means = arr.mean(axis=0)\n",
        "result = arr - col_means\n",
        "result"
      ],
      "metadata": {
        "id": "nX8uWNhpeA1E"
      },
      "execution_count": null,
      "outputs": []
    },
    {
      "cell_type": "code",
      "source": [
        "arr = np.array([[1,2,3],[3,4,5]])\n",
        "row_means = arr.mean(axis=1)\n",
        "normal = row_means/np.std(row_means)"
      ],
      "metadata": {
        "id": "RAWvwP7Fea5B"
      },
      "execution_count": null,
      "outputs": []
    },
    {
      "cell_type": "code",
      "source": [
        "normal"
      ],
      "metadata": {
        "id": "LV3lJsxpfBQg"
      },
      "execution_count": null,
      "outputs": []
    },
    {
      "cell_type": "code",
      "source": [
        "\n",
        "on = np.array([[1,2,3],[4,5,6],[7,8,9]])\n",
        "print(on+[1,2,3])"
      ],
      "metadata": {
        "id": "M_zjZvVyfJ03"
      },
      "execution_count": null,
      "outputs": []
    },
    {
      "cell_type": "code",
      "source": [
        "\n",
        "on = np.array([[1,2,3],[4,5,6],[7,8,9]])\n",
        "print(on*[1,2,3])"
      ],
      "metadata": {
        "id": "QlhM4-0UfU1x"
      },
      "execution_count": null,
      "outputs": []
    },
    {
      "cell_type": "code",
      "source": [
        "import numpy as np\n",
        "arr = np.random.randint(0, 100, size=(5, 5))\n",
        "result = arr[arr > 50]"
      ],
      "metadata": {
        "id": "01NLbZW4fcon"
      },
      "execution_count": null,
      "outputs": []
    },
    {
      "cell_type": "code",
      "source": [
        "import numpy as np\n",
        "arr = np.array([[1, -2, 3], [-4, 5, -6]])\n",
        "result = np.where(arr < 0, 0, arr)\n"
      ],
      "metadata": {
        "id": "Bk7OWQEulnrt"
      },
      "execution_count": null,
      "outputs": []
    },
    {
      "cell_type": "code",
      "source": [
        "result"
      ],
      "metadata": {
        "id": "qoxAu0ACmnZs"
      },
      "execution_count": null,
      "outputs": []
    },
    {
      "cell_type": "code",
      "source": [
        "import numpy as np\n",
        "arr = np.array([1, np.nan, 3])\n",
        "arr[np.isnan(arr)] = 0\n"
      ],
      "metadata": {
        "id": "VwqQr-zGmoMG"
      },
      "execution_count": null,
      "outputs": []
    },
    {
      "cell_type": "code",
      "source": [
        "arr"
      ],
      "metadata": {
        "id": "UjnCgs4Rmy89"
      },
      "execution_count": null,
      "outputs": []
    },
    {
      "cell_type": "code",
      "source": [
        "import numpy as np\n",
        "arr = np.array([[2,4,6],\n",
        "                [9, 18, 21],\n",
        "                [22,24, 30]])\n",
        "result = arr[(arr % 2 == 0) & (arr % 3 == 0)]\n"
      ],
      "metadata": {
        "id": "fi-pfe4emzbX"
      },
      "execution_count": null,
      "outputs": []
    },
    {
      "cell_type": "code",
      "source": [
        "result"
      ],
      "metadata": {
        "id": "R4LWHE_Im-j_"
      },
      "execution_count": null,
      "outputs": []
    },
    {
      "cell_type": "code",
      "source": [
        "arr = np.random.randint(0, 100, size=(4, 3))\n",
        "print(arr)"
      ],
      "metadata": {
        "id": "ACrL4r_Vm_M_"
      },
      "execution_count": null,
      "outputs": []
    },
    {
      "cell_type": "code",
      "source": [
        "row_means = arr.mean(axis=1,keepdims=True)\n",
        "row_means"
      ],
      "metadata": {
        "id": "Gem6HO2InZUr"
      },
      "execution_count": null,
      "outputs": []
    },
    {
      "cell_type": "code",
      "source": [
        "print(arr-row_means)"
      ],
      "metadata": {
        "id": "WfQc1SAanpnV"
      },
      "execution_count": null,
      "outputs": []
    },
    {
      "cell_type": "code",
      "source": [
        "arr = np.random.randint(0, 100, size=(5,5))\n",
        "arr2 = arr.sum(axis=0)\n",
        "print(arr)\n",
        "print(arr2)\n",
        "print(arr/arr2)"
      ],
      "metadata": {
        "id": "bXmTULc8n40-"
      },
      "execution_count": null,
      "outputs": []
    },
    {
      "cell_type": "code",
      "source": [
        "arr = np.random.randint(0, 100, size=(5,1))\n"
      ],
      "metadata": {
        "id": "iiDgm4-DpptR"
      },
      "execution_count": null,
      "outputs": []
    },
    {
      "cell_type": "code",
      "source": [
        "arr"
      ],
      "metadata": {
        "id": "lp5qOvnFp6rp"
      },
      "execution_count": null,
      "outputs": []
    },
    {
      "cell_type": "code",
      "source": [
        "arr2 = np.random.randint(0, 100, size=(5,4))\n",
        "arr2"
      ],
      "metadata": {
        "id": "-unRvI7pp7JZ"
      },
      "execution_count": null,
      "outputs": []
    },
    {
      "cell_type": "code",
      "source": [
        "arr+arr2"
      ],
      "metadata": {
        "id": "Fxxcmkaip_TG"
      },
      "execution_count": null,
      "outputs": []
    },
    {
      "cell_type": "code",
      "source": [
        "import numpy as np\n",
        "a = np.arange(24).reshape((2, 3, 4))\n",
        "print(a)\n",
        "b = np.array([[[1], [2], [3]]])\n",
        "print(b)\n",
        "result = a - b\n",
        "print(result)\n"
      ],
      "metadata": {
        "id": "h1kqG6utqCLH"
      },
      "execution_count": null,
      "outputs": []
    },
    {
      "cell_type": "code",
      "source": [
        "import numpy as np\n",
        "a = np.arange(1, 5).reshape((4, 1))\n",
        "b = np.arange(1, 6).reshape((1, 5))\n",
        "mtable = a*b\n",
        "print(mtable)\n"
      ],
      "metadata": {
        "id": "4OtXWP6pqq7Y"
      },
      "execution_count": null,
      "outputs": []
    },
    {
      "cell_type": "code",
      "source": [
        "a = np.arange(1,7).reshape(2, 1, 3)\n",
        "b= np.arange(1,4).reshape(1, 3, 1),"
      ],
      "metadata": {
        "id": "ZjmNBh1drT2w"
      },
      "execution_count": null,
      "outputs": []
    },
    {
      "cell_type": "code",
      "source": [
        "a"
      ],
      "metadata": {
        "id": "Rqfmq65c2aW2"
      },
      "execution_count": null,
      "outputs": []
    },
    {
      "cell_type": "code",
      "source": [
        "b"
      ],
      "metadata": {
        "id": "psIKTr6q2cIi"
      },
      "execution_count": null,
      "outputs": []
    },
    {
      "cell_type": "code",
      "source": [
        "c = a+b"
      ],
      "metadata": {
        "id": "baPPLDzZr46F"
      },
      "execution_count": null,
      "outputs": []
    },
    {
      "cell_type": "code",
      "source": [
        "c"
      ],
      "metadata": {
        "id": "1gBwE3posvrm"
      },
      "execution_count": null,
      "outputs": []
    },
    {
      "cell_type": "code",
      "source": [
        "c.shape"
      ],
      "metadata": {
        "id": "u9RbQhn-swKa"
      },
      "execution_count": null,
      "outputs": []
    },
    {
      "cell_type": "code",
      "source": [
        "a= [1, 2, 3]\n",
        "b = [4, 5, 6]\n",
        "np.add(a,b)\n"
      ],
      "metadata": {
        "id": "yMS9XadDsxFi"
      },
      "execution_count": null,
      "outputs": []
    },
    {
      "cell_type": "code",
      "source": [
        "a = [[1,2,3],[1,2,3]]\n",
        "b=[[2,3],[3,4],[4,5]]\n",
        "c=np.dot(a,b)\n",
        "c"
      ],
      "metadata": {
        "id": "8vO4cQ1ts4JJ"
      },
      "execution_count": null,
      "outputs": []
    },
    {
      "cell_type": "code",
      "source": [
        "arr=np.zeros(shape=(5,5))\n",
        "for i in range(0,5):\n",
        "  for j in range(0,5):\n",
        "    if i==j:\n",
        "      b=j+1\n",
        "      arr[i][j]=b*10\n",
        "arr"
      ],
      "metadata": {
        "id": "Q_lmoanptSFK"
      },
      "execution_count": null,
      "outputs": []
    },
    {
      "cell_type": "code",
      "source": [
        "import numpy as np\n",
        "a = np.array([[1, 2],[3, 4]])\n",
        "b = np.array([[5, 6],[7, 8]])\n",
        "c=a*b\n",
        "print(c)\n",
        "d=a@b\n",
        "print(d)\n"
      ],
      "metadata": {
        "id": "rvemVyv5tz5y"
      },
      "execution_count": null,
      "outputs": []
    },
    {
      "cell_type": "code",
      "source": [
        "import numpy as np\n",
        "\n",
        "def cosine_similarity(a, b):\n",
        "    a = np.asarray(a)\n",
        "    b = np.asarray(b)\n",
        "    if a.shape != b.shape:\n",
        "      raise ValueError(\"Vectors must be the same shape\")\n",
        "    dp = np.dot(a, b)\n",
        "    na = np.linalg.norm(a)\n",
        "    nb = np.linalg.norm(b)\n",
        "    return dp / (na * nb)\n",
        "\n",
        "cosine_similarity(a,arr)"
      ],
      "metadata": {
        "id": "ThqLzsoXuYSG"
      },
      "execution_count": null,
      "outputs": []
    },
    {
      "cell_type": "code",
      "source": [
        "cosine_similarity(a,b)\n"
      ],
      "metadata": {
        "id": "FZxr1AG5vDq6"
      },
      "execution_count": null,
      "outputs": []
    },
    {
      "cell_type": "code",
      "source": [
        "arr = [1, 2, 3, 4, 5]\n",
        "np.sum(arr)"
      ],
      "metadata": {
        "id": "ZDgAU3KkvI66"
      },
      "execution_count": null,
      "outputs": []
    },
    {
      "cell_type": "code",
      "source": [
        "np.mean(arr)\n"
      ],
      "metadata": {
        "id": "oiYW5B7ovRx5"
      },
      "execution_count": null,
      "outputs": []
    },
    {
      "cell_type": "code",
      "source": [
        "np.median(arr)\n"
      ],
      "metadata": {
        "id": "V-vu1nTqvgAv"
      },
      "execution_count": null,
      "outputs": []
    },
    {
      "cell_type": "code",
      "source": [
        "np.std(arr)"
      ],
      "metadata": {
        "id": "N12OBPAwvh9j"
      },
      "execution_count": null,
      "outputs": []
    },
    {
      "cell_type": "code",
      "source": [
        "samples = np.random.normal(loc=0, scale=1, size=1000)\n",
        "samples"
      ],
      "metadata": {
        "id": "9v4EspF1vjKv"
      },
      "execution_count": null,
      "outputs": []
    },
    {
      "cell_type": "code",
      "source": [
        "mean = np.mean(a, axis=0)\n",
        "std = np.std(a, axis=0)\n",
        "normalized_data = (a - mean) / std"
      ],
      "metadata": {
        "id": "vavgiHk7v2bE"
      },
      "execution_count": null,
      "outputs": []
    },
    {
      "cell_type": "code",
      "source": [
        "normalized_data"
      ],
      "metadata": {
        "id": "M90zoNW8wOD-"
      },
      "execution_count": null,
      "outputs": []
    },
    {
      "cell_type": "code",
      "source": [
        "arr = np.array([[2,4,6],\n",
        "                [9, 18, 21],\n",
        "                [22,24, 30]])"
      ],
      "metadata": {
        "id": "JtIT3UJjwPXD"
      },
      "execution_count": null,
      "outputs": []
    },
    {
      "cell_type": "code",
      "source": [
        "arr.ndim"
      ],
      "metadata": {
        "id": "_9RZjtnLwcGa"
      },
      "execution_count": null,
      "outputs": []
    },
    {
      "cell_type": "code",
      "source": [
        "a = np.argmax(arr)"
      ],
      "metadata": {
        "id": "yut9HE4XwdXy"
      },
      "execution_count": null,
      "outputs": []
    },
    {
      "cell_type": "code",
      "source": [
        "a"
      ],
      "metadata": {
        "id": "fIhy29Q0wga1"
      },
      "execution_count": null,
      "outputs": []
    },
    {
      "cell_type": "code",
      "source": [
        "flat_index = np.argmax(arr)\n",
        "coords = np.unravel_index(flat_index, arr.shape)\n",
        "print(\"Flat index:\", flat_index)\n",
        "print(coords)\n"
      ],
      "metadata": {
        "id": "xvII3XL2wqYc"
      },
      "execution_count": null,
      "outputs": []
    },
    {
      "cell_type": "code",
      "source": [
        "a = np.array([1, 2, 3, 4])\n",
        "b = np.array([3, 4, 5, 6])\n",
        "intersection = np.intersect1d(a, b)\n",
        "union = np.union1d(a, b)\n",
        "print(\"Intersection:\", intersection)\n",
        "print(\"Union:\", union)\n"
      ],
      "metadata": {
        "id": "oq-Fcd_Gy2b6"
      },
      "execution_count": null,
      "outputs": []
    },
    {
      "cell_type": "code",
      "source": [
        "dt = np.dtype([('name', 'U20'), ('age', 'i4'), ('score', 'f4')])\n",
        "\n",
        "students = np.array([\n",
        "    ('Alice', 20, 85.0),\n",
        "    ('Bob', 22, 75.5),\n",
        "    ('Charlie', 19, 90.0),\n",
        "    ('David', 21, 65.0)\n",
        "], dtype=dt)\n",
        "\n",
        "high_scorers = students[students['score'] > 80]\n",
        "\n",
        "print(high_scorers)\n"
      ],
      "metadata": {
        "id": "u443C4RCzay9"
      },
      "execution_count": null,
      "outputs": []
    },
    {
      "cell_type": "code",
      "source": [
        "random_integers = np.random.randint(1, 101, size=6)\n"
      ],
      "metadata": {
        "id": "ReNOuitWz3JF"
      },
      "execution_count": null,
      "outputs": []
    },
    {
      "cell_type": "code",
      "source": [
        "random_integers"
      ],
      "metadata": {
        "id": "q205YvgGz9UX"
      },
      "execution_count": null,
      "outputs": []
    },
    {
      "cell_type": "code",
      "source": [
        "arr = np.random.randint(1, 101, size=10)\n",
        "arr\n",
        "\n"
      ],
      "metadata": {
        "id": "o91Xcfiwz-IO"
      },
      "execution_count": null,
      "outputs": []
    },
    {
      "cell_type": "code",
      "source": [
        "np.random.shuffle(arr)\n"
      ],
      "metadata": {
        "id": "y5EBSSvh0OrY"
      },
      "execution_count": null,
      "outputs": []
    },
    {
      "cell_type": "code",
      "source": [
        "arr"
      ],
      "metadata": {
        "id": "PXIHtlcY0POJ"
      },
      "execution_count": null,
      "outputs": []
    },
    {
      "cell_type": "code",
      "source": [
        "np.sort(arr)"
      ],
      "metadata": {
        "id": "KyCGhoa20cCM"
      },
      "execution_count": null,
      "outputs": []
    },
    {
      "cell_type": "code",
      "source": [
        "arr = np.random.randint(1, 101, size=(3, 3, 3))\n",
        "arr"
      ],
      "metadata": {
        "id": "HgVE1USf0eHx"
      },
      "execution_count": null,
      "outputs": []
    },
    {
      "cell_type": "code",
      "source": [
        "sorted_arr = np.sort(arr, axis=-1)\n",
        "sorted_arr"
      ],
      "metadata": {
        "id": "he1EJcJb0sHT"
      },
      "execution_count": null,
      "outputs": []
    },
    {
      "cell_type": "code",
      "source": [
        "arr = np.random.randint(1, 101, size=(2,2))\n",
        "arr"
      ],
      "metadata": {
        "id": "odBr3OVg0uWE"
      },
      "execution_count": null,
      "outputs": []
    },
    {
      "cell_type": "code",
      "source": [
        "np.transpose(arr)"
      ],
      "metadata": {
        "id": "ZVIkWuRY04O0"
      },
      "execution_count": null,
      "outputs": []
    },
    {
      "cell_type": "code",
      "source": [
        "np.linalg.inv(arr)"
      ],
      "metadata": {
        "id": "ilDEy4sV06DI"
      },
      "execution_count": null,
      "outputs": []
    },
    {
      "cell_type": "code",
      "source": [
        "np.linalg.det(arr)"
      ],
      "metadata": {
        "id": "ZBYZFbeV1L1b"
      },
      "execution_count": null,
      "outputs": []
    },
    {
      "cell_type": "markdown",
      "source": [
        "2x + y = 5\n",
        "\n",
        "\n",
        "x+3y=8"
      ],
      "metadata": {
        "id": "SjPusbpq1lSA"
      }
    },
    {
      "cell_type": "code",
      "source": [
        "a = np.array([[2, 1], [1, 3]])\n",
        "b = np.array([5, 8])\n",
        "x = np.linalg.solve(a, b)\n",
        "print(x)"
      ],
      "metadata": {
        "id": "KPqrXf671V7I"
      },
      "execution_count": null,
      "outputs": []
    },
    {
      "cell_type": "code",
      "source": [],
      "metadata": {
        "id": "kVqnL3cg1kmV"
      },
      "execution_count": null,
      "outputs": []
    }
  ]
}